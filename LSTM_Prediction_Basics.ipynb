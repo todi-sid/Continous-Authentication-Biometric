{
  "cells": [
    {
      "cell_type": "code",
      "execution_count": null,
      "metadata": {
        "id": "RoY3Zrwyy99l"
      },
      "outputs": [],
      "source": [
        "import numpy\n",
        "import matplotlib.pyplot as plt\n",
        "import pandas\n",
        "import math\n",
        "from keras.models import Sequential\n",
        "from keras.layers import Dense\n",
        "from keras.layers import LSTM\n",
        "from sklearn.preprocessing import MinMaxScaler\n",
        "from sklearn.metrics import mean_squared_error"
      ]
    },
    {
      "cell_type": "code",
      "execution_count": null,
      "metadata": {
        "id": "WTda5Sc6zzHC"
      },
      "outputs": [],
      "source": [
        "# load the dataset\n",
        "dataframe = pandas.read_csv('40_20.csv', usecols=[0], engine='python')\n",
        "dataset = dataframe.values\n",
        "dataset = dataset.astype('float32')"
      ]
    },
    {
      "cell_type": "code",
      "execution_count": null,
      "metadata": {
        "id": "YtIVeJLxz8yy"
      },
      "outputs": [],
      "source": [
        "# normalize the dataset\n",
        "scaler = MinMaxScaler(feature_range=(0, 1))\n",
        "dataset = scaler.fit_transform(dataset)"
      ]
    },
    {
      "cell_type": "code",
      "execution_count": null,
      "metadata": {
        "id": "CFF2Hd5Y0EuR",
        "colab": {
          "base_uri": "https://localhost:8080/"
        },
        "outputId": "5cac0509-280d-4bd3-c34f-228797e6947b"
      },
      "outputs": [
        {
          "output_type": "stream",
          "name": "stdout",
          "text": [
            "401 198\n"
          ]
        }
      ],
      "source": [
        "# split into train and test sets\n",
        "train_size = int(len(dataset) * 0.67)\n",
        "test_size = len(dataset) - train_size\n",
        "train, test = dataset[0:train_size,:], dataset[train_size:len(dataset),:]\n",
        "print(len(train), len(test))"
      ]
    },
    {
      "cell_type": "code",
      "execution_count": null,
      "metadata": {
        "id": "sc4KrAlF0Ieh"
      },
      "outputs": [],
      "source": [
        "# convert an array of values into a dataset matrix\n",
        "def create_dataset(dataset, look_back=5):\n",
        "\tdataX, dataY = [], []\n",
        "\tfor i in range(len(dataset)-look_back-1):\n",
        "\t\ta = dataset[i:(i+look_back), 0]\n",
        "\t\tdataX.append(a)\n",
        "\t\tdataY.append(dataset[i + look_back, 0])\n",
        "\treturn numpy.array(dataX), numpy.array(dataY)"
      ]
    },
    {
      "cell_type": "code",
      "execution_count": null,
      "metadata": {
        "id": "wC9--Erc0LFh"
      },
      "outputs": [],
      "source": [
        "# reshape into X=t and Y=t+5\n",
        "look_back = 10\n",
        "trainX, trainY = create_dataset(train, look_back)\n",
        "testX, testY = create_dataset(test, look_back)"
      ]
    },
    {
      "cell_type": "code",
      "execution_count": null,
      "metadata": {
        "id": "BzD_mhBk0Olo"
      },
      "outputs": [],
      "source": [
        "# reshape input to be [samples, time steps, features]\n",
        "trainX = numpy.reshape(trainX, (trainX.shape[0], 1, trainX.shape[1]))\n",
        "testX = numpy.reshape(testX, (testX.shape[0], 1, testX.shape[1]))"
      ]
    },
    {
      "cell_type": "code",
      "execution_count": null,
      "metadata": {
        "colab": {
          "base_uri": "https://localhost:8080/"
        },
        "id": "bFpFv4Ob0RzY",
        "outputId": "3a0a238f-4f7b-4ede-d269-d9b1cc69c1e9"
      },
      "outputs": [
        {
          "output_type": "stream",
          "name": "stdout",
          "text": [
            "Epoch 1/100\n",
            "390/390 - 3s - loss: 0.0219 - 3s/epoch - 7ms/step\n",
            "Epoch 2/100\n",
            "390/390 - 1s - loss: 0.0138 - 619ms/epoch - 2ms/step\n",
            "Epoch 3/100\n",
            "390/390 - 1s - loss: 0.0135 - 604ms/epoch - 2ms/step\n",
            "Epoch 4/100\n",
            "390/390 - 1s - loss: 0.0133 - 633ms/epoch - 2ms/step\n",
            "Epoch 5/100\n",
            "390/390 - 1s - loss: 0.0133 - 597ms/epoch - 2ms/step\n",
            "Epoch 6/100\n",
            "390/390 - 1s - loss: 0.0130 - 617ms/epoch - 2ms/step\n",
            "Epoch 7/100\n",
            "390/390 - 1s - loss: 0.0128 - 622ms/epoch - 2ms/step\n",
            "Epoch 8/100\n",
            "390/390 - 1s - loss: 0.0128 - 616ms/epoch - 2ms/step\n",
            "Epoch 9/100\n",
            "390/390 - 1s - loss: 0.0127 - 606ms/epoch - 2ms/step\n",
            "Epoch 10/100\n",
            "390/390 - 1s - loss: 0.0126 - 581ms/epoch - 1ms/step\n",
            "Epoch 11/100\n",
            "390/390 - 1s - loss: 0.0125 - 590ms/epoch - 2ms/step\n",
            "Epoch 12/100\n",
            "390/390 - 1s - loss: 0.0125 - 606ms/epoch - 2ms/step\n",
            "Epoch 13/100\n",
            "390/390 - 1s - loss: 0.0125 - 600ms/epoch - 2ms/step\n",
            "Epoch 14/100\n",
            "390/390 - 1s - loss: 0.0125 - 588ms/epoch - 2ms/step\n",
            "Epoch 15/100\n",
            "390/390 - 1s - loss: 0.0124 - 602ms/epoch - 2ms/step\n",
            "Epoch 16/100\n",
            "390/390 - 1s - loss: 0.0123 - 596ms/epoch - 2ms/step\n",
            "Epoch 17/100\n",
            "390/390 - 1s - loss: 0.0124 - 607ms/epoch - 2ms/step\n",
            "Epoch 18/100\n",
            "390/390 - 1s - loss: 0.0125 - 613ms/epoch - 2ms/step\n",
            "Epoch 19/100\n",
            "390/390 - 1s - loss: 0.0123 - 623ms/epoch - 2ms/step\n",
            "Epoch 20/100\n",
            "390/390 - 1s - loss: 0.0124 - 633ms/epoch - 2ms/step\n",
            "Epoch 21/100\n",
            "390/390 - 1s - loss: 0.0123 - 598ms/epoch - 2ms/step\n",
            "Epoch 22/100\n",
            "390/390 - 1s - loss: 0.0124 - 796ms/epoch - 2ms/step\n",
            "Epoch 23/100\n",
            "390/390 - 1s - loss: 0.0124 - 796ms/epoch - 2ms/step\n",
            "Epoch 24/100\n",
            "390/390 - 1s - loss: 0.0122 - 760ms/epoch - 2ms/step\n",
            "Epoch 25/100\n",
            "390/390 - 1s - loss: 0.0124 - 590ms/epoch - 2ms/step\n",
            "Epoch 26/100\n",
            "390/390 - 1s - loss: 0.0124 - 602ms/epoch - 2ms/step\n",
            "Epoch 27/100\n",
            "390/390 - 1s - loss: 0.0122 - 582ms/epoch - 1ms/step\n",
            "Epoch 28/100\n",
            "390/390 - 1s - loss: 0.0124 - 578ms/epoch - 1ms/step\n",
            "Epoch 29/100\n",
            "390/390 - 1s - loss: 0.0124 - 587ms/epoch - 2ms/step\n",
            "Epoch 30/100\n",
            "390/390 - 1s - loss: 0.0123 - 601ms/epoch - 2ms/step\n",
            "Epoch 31/100\n",
            "390/390 - 1s - loss: 0.0123 - 581ms/epoch - 1ms/step\n",
            "Epoch 32/100\n",
            "390/390 - 1s - loss: 0.0123 - 580ms/epoch - 1ms/step\n",
            "Epoch 33/100\n",
            "390/390 - 1s - loss: 0.0123 - 595ms/epoch - 2ms/step\n",
            "Epoch 34/100\n",
            "390/390 - 1s - loss: 0.0124 - 585ms/epoch - 1ms/step\n",
            "Epoch 35/100\n",
            "390/390 - 1s - loss: 0.0124 - 608ms/epoch - 2ms/step\n",
            "Epoch 36/100\n",
            "390/390 - 1s - loss: 0.0124 - 580ms/epoch - 1ms/step\n",
            "Epoch 37/100\n",
            "390/390 - 1s - loss: 0.0122 - 596ms/epoch - 2ms/step\n",
            "Epoch 38/100\n",
            "390/390 - 1s - loss: 0.0124 - 597ms/epoch - 2ms/step\n",
            "Epoch 39/100\n",
            "390/390 - 1s - loss: 0.0124 - 565ms/epoch - 1ms/step\n",
            "Epoch 40/100\n",
            "390/390 - 1s - loss: 0.0123 - 609ms/epoch - 2ms/step\n",
            "Epoch 41/100\n",
            "390/390 - 1s - loss: 0.0123 - 600ms/epoch - 2ms/step\n",
            "Epoch 42/100\n",
            "390/390 - 1s - loss: 0.0123 - 606ms/epoch - 2ms/step\n",
            "Epoch 43/100\n",
            "390/390 - 1s - loss: 0.0122 - 897ms/epoch - 2ms/step\n",
            "Epoch 44/100\n",
            "390/390 - 1s - loss: 0.0122 - 888ms/epoch - 2ms/step\n",
            "Epoch 45/100\n",
            "390/390 - 1s - loss: 0.0122 - 821ms/epoch - 2ms/step\n",
            "Epoch 46/100\n",
            "390/390 - 1s - loss: 0.0122 - 575ms/epoch - 1ms/step\n",
            "Epoch 47/100\n",
            "390/390 - 1s - loss: 0.0123 - 587ms/epoch - 2ms/step\n",
            "Epoch 48/100\n",
            "390/390 - 1s - loss: 0.0122 - 580ms/epoch - 1ms/step\n",
            "Epoch 49/100\n",
            "390/390 - 1s - loss: 0.0122 - 583ms/epoch - 1ms/step\n",
            "Epoch 50/100\n",
            "390/390 - 1s - loss: 0.0125 - 570ms/epoch - 1ms/step\n",
            "Epoch 51/100\n",
            "390/390 - 1s - loss: 0.0121 - 579ms/epoch - 1ms/step\n",
            "Epoch 52/100\n",
            "390/390 - 1s - loss: 0.0124 - 573ms/epoch - 1ms/step\n",
            "Epoch 53/100\n",
            "390/390 - 1s - loss: 0.0123 - 567ms/epoch - 1ms/step\n",
            "Epoch 54/100\n",
            "390/390 - 1s - loss: 0.0124 - 580ms/epoch - 1ms/step\n",
            "Epoch 55/100\n",
            "390/390 - 1s - loss: 0.0123 - 572ms/epoch - 1ms/step\n",
            "Epoch 56/100\n",
            "390/390 - 1s - loss: 0.0122 - 585ms/epoch - 1ms/step\n",
            "Epoch 57/100\n",
            "390/390 - 1s - loss: 0.0123 - 571ms/epoch - 1ms/step\n",
            "Epoch 58/100\n",
            "390/390 - 1s - loss: 0.0124 - 576ms/epoch - 1ms/step\n",
            "Epoch 59/100\n",
            "390/390 - 1s - loss: 0.0122 - 590ms/epoch - 2ms/step\n",
            "Epoch 60/100\n",
            "390/390 - 1s - loss: 0.0122 - 594ms/epoch - 2ms/step\n",
            "Epoch 61/100\n",
            "390/390 - 1s - loss: 0.0122 - 596ms/epoch - 2ms/step\n",
            "Epoch 62/100\n",
            "390/390 - 1s - loss: 0.0123 - 592ms/epoch - 2ms/step\n",
            "Epoch 63/100\n",
            "390/390 - 1s - loss: 0.0122 - 614ms/epoch - 2ms/step\n",
            "Epoch 64/100\n",
            "390/390 - 1s - loss: 0.0122 - 604ms/epoch - 2ms/step\n",
            "Epoch 65/100\n",
            "390/390 - 1s - loss: 0.0121 - 595ms/epoch - 2ms/step\n",
            "Epoch 66/100\n",
            "390/390 - 1s - loss: 0.0119 - 589ms/epoch - 2ms/step\n",
            "Epoch 67/100\n",
            "390/390 - 1s - loss: 0.0122 - 575ms/epoch - 1ms/step\n",
            "Epoch 68/100\n",
            "390/390 - 1s - loss: 0.0124 - 589ms/epoch - 2ms/step\n",
            "Epoch 69/100\n",
            "390/390 - 1s - loss: 0.0123 - 582ms/epoch - 1ms/step\n",
            "Epoch 70/100\n",
            "390/390 - 1s - loss: 0.0123 - 582ms/epoch - 1ms/step\n",
            "Epoch 71/100\n",
            "390/390 - 1s - loss: 0.0125 - 591ms/epoch - 2ms/step\n",
            "Epoch 72/100\n",
            "390/390 - 1s - loss: 0.0121 - 579ms/epoch - 1ms/step\n",
            "Epoch 73/100\n",
            "390/390 - 1s - loss: 0.0124 - 590ms/epoch - 2ms/step\n",
            "Epoch 74/100\n",
            "390/390 - 1s - loss: 0.0123 - 583ms/epoch - 1ms/step\n",
            "Epoch 75/100\n",
            "390/390 - 1s - loss: 0.0121 - 599ms/epoch - 2ms/step\n",
            "Epoch 76/100\n",
            "390/390 - 1s - loss: 0.0122 - 580ms/epoch - 1ms/step\n",
            "Epoch 77/100\n",
            "390/390 - 1s - loss: 0.0123 - 587ms/epoch - 2ms/step\n",
            "Epoch 78/100\n",
            "390/390 - 1s - loss: 0.0123 - 587ms/epoch - 2ms/step\n",
            "Epoch 79/100\n",
            "390/390 - 1s - loss: 0.0122 - 588ms/epoch - 2ms/step\n",
            "Epoch 80/100\n",
            "390/390 - 1s - loss: 0.0121 - 592ms/epoch - 2ms/step\n",
            "Epoch 81/100\n",
            "390/390 - 1s - loss: 0.0122 - 603ms/epoch - 2ms/step\n",
            "Epoch 82/100\n",
            "390/390 - 1s - loss: 0.0121 - 586ms/epoch - 2ms/step\n",
            "Epoch 83/100\n",
            "390/390 - 1s - loss: 0.0122 - 586ms/epoch - 2ms/step\n",
            "Epoch 84/100\n",
            "390/390 - 1s - loss: 0.0122 - 595ms/epoch - 2ms/step\n",
            "Epoch 85/100\n",
            "390/390 - 1s - loss: 0.0121 - 588ms/epoch - 2ms/step\n",
            "Epoch 86/100\n",
            "390/390 - 1s - loss: 0.0123 - 588ms/epoch - 2ms/step\n",
            "Epoch 87/100\n",
            "390/390 - 1s - loss: 0.0121 - 583ms/epoch - 1ms/step\n",
            "Epoch 88/100\n",
            "390/390 - 1s - loss: 0.0124 - 585ms/epoch - 2ms/step\n",
            "Epoch 89/100\n",
            "390/390 - 1s - loss: 0.0121 - 597ms/epoch - 2ms/step\n",
            "Epoch 90/100\n",
            "390/390 - 1s - loss: 0.0121 - 598ms/epoch - 2ms/step\n",
            "Epoch 91/100\n",
            "390/390 - 1s - loss: 0.0123 - 590ms/epoch - 2ms/step\n",
            "Epoch 92/100\n",
            "390/390 - 1s - loss: 0.0122 - 582ms/epoch - 1ms/step\n",
            "Epoch 93/100\n",
            "390/390 - 1s - loss: 0.0122 - 577ms/epoch - 1ms/step\n",
            "Epoch 94/100\n",
            "390/390 - 1s - loss: 0.0121 - 582ms/epoch - 1ms/step\n",
            "Epoch 95/100\n",
            "390/390 - 1s - loss: 0.0122 - 581ms/epoch - 1ms/step\n",
            "Epoch 96/100\n",
            "390/390 - 1s - loss: 0.0122 - 582ms/epoch - 1ms/step\n",
            "Epoch 97/100\n",
            "390/390 - 1s - loss: 0.0122 - 590ms/epoch - 2ms/step\n",
            "Epoch 98/100\n",
            "390/390 - 1s - loss: 0.0121 - 575ms/epoch - 1ms/step\n",
            "Epoch 99/100\n",
            "390/390 - 1s - loss: 0.0123 - 586ms/epoch - 2ms/step\n",
            "Epoch 100/100\n",
            "390/390 - 1s - loss: 0.0121 - 581ms/epoch - 1ms/step\n"
          ]
        },
        {
          "output_type": "execute_result",
          "data": {
            "text/plain": [
              "<keras.callbacks.History at 0x7f8beca52d90>"
            ]
          },
          "metadata": {},
          "execution_count": 8
        }
      ],
      "source": [
        "# create and fit the LSTM network\n",
        "model = Sequential()\n",
        "model.add(LSTM(4, input_shape=(1, look_back)))\n",
        "model.add(Dense(1))\n",
        "model.compile(loss='mean_squared_error', optimizer='adam')\n",
        "model.fit(trainX, trainY, epochs=100, batch_size=1, verbose=2)"
      ]
    },
    {
      "cell_type": "code",
      "execution_count": null,
      "metadata": {
        "colab": {
          "base_uri": "https://localhost:8080/"
        },
        "id": "gyZSL_xY0aVg",
        "outputId": "a5032321-6242-4412-a158-dd08d234548b"
      },
      "outputs": [
        {
          "output_type": "stream",
          "name": "stdout",
          "text": [
            "13/13 [==============================] - 1s 2ms/step\n",
            "6/6 [==============================] - 0s 3ms/step\n",
            "Train Score: 50.39 RMSE\n",
            "Test Score: 123.88 RMSE\n"
          ]
        }
      ],
      "source": [
        "# make predictions\n",
        "trainPredict = model.predict(trainX)\n",
        "testPredict = model.predict(testX)\n",
        "# invert predictions\n",
        "trainPredict = scaler.inverse_transform(trainPredict)\n",
        "trainY = scaler.inverse_transform([trainY])\n",
        "testPredict = scaler.inverse_transform(testPredict)\n",
        "testY = scaler.inverse_transform([testY])\n",
        "# calculate root mean squared error\n",
        "trainScore = math.sqrt(mean_squared_error(trainY[0], trainPredict[:,0]))\n",
        "print('Train Score: %.2f RMSE' % (trainScore))\n",
        "testScore = math.sqrt(mean_squared_error(testY[0], testPredict[:,0]))\n",
        "print('Test Score: %.2f RMSE' % (testScore))"
      ]
    },
    {
      "cell_type": "code",
      "execution_count": null,
      "metadata": {
        "colab": {
          "base_uri": "https://localhost:8080/",
          "height": 276
        },
        "id": "HNcJhLTR0f-A",
        "outputId": "7b780939-b5b5-4776-9c1b-ce52773b75db"
      },
      "outputs": [
        {
          "output_type": "display_data",
          "data": {
            "text/plain": [
              "<Figure size 432x288 with 1 Axes>"
            ],
            "image/png": "[encoded data removed]"
          },
          "metadata": {
            "needs_background": "light"
          }
        }
      ],
      "source": [
        "# shift train predictions for plotting\n",
        "trainPredictPlot = numpy.empty_like(dataset)\n",
        "trainPredictPlot[:, :] = numpy.nan\n",
        "trainPredictPlot[look_back:len(trainPredict)+look_back, :] = trainPredict\n",
        "# shift test predictions for plotting\n",
        "testPredictPlot = numpy.empty_like(dataset)\n",
        "testPredictPlot[:, :] = numpy.nan\n",
        "testPredictPlot[len(trainPredict)+(look_back*2)+1:len(dataset)-1, :] = testPredict\n",
        "# plot baseline and predictions\n",
        "plt.plot(scaler.inverse_transform(dataset),'b-',label='Actual Data')\n",
        "plt.plot(trainPredictPlot,'y-',label='Train Data')\n",
        "plt.plot(testPredictPlot,'r-',label='Test Data')\n",
        "plt.legend()\n",
        "plt.show()"
      ]
    },
    {
      "cell_type": "code",
      "source": [
        "# Import those libraries\n",
        "import pandas as pd\n",
        "from scipy.stats import pearsonr\n",
        " \n",
        "# # Import your data into Python\n",
        "# df = pd.read_csv(\"Auto.csv\")\n",
        " \n",
        "# Convert dataframe into series\n",
        "list1 = dataset\n",
        "list2 = testPredict\n",
        "\n",
        "print(len(list1),len(list2))\n",
        "# # Apply the pearsonr()\n",
        "# corr, _ = pearsonr(list1, list2)\n",
        "# print('Pearsons correlation: %.3f' % corr)"
      ],
      "metadata": {
        "id": "PNvf2MGBUWFa",
        "colab": {
          "base_uri": "https://localhost:8080/"
        },
        "outputId": "570df7a5-a378-4dde-f3c6-8e3da44e1486"
      },
      "execution_count": null,
      "outputs": [
        {
          "output_type": "stream",
          "name": "stdout",
          "text": [
            "599 187\n"
          ]
        }
      ]
    }
  ],
  "metadata": {
    "colab": {
      "provenance": []
    },
    "kernelspec": {
      "display_name": "Python 3",
      "name": "python3"
    },
    "language_info": {
      "name": "python"
    }
  },
  "nbformat": 4,
  "nbformat_minor": 0
}
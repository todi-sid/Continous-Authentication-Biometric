{
  "nbformat": 4,
  "nbformat_minor": 0,
  "metadata": {
    "colab": {
      "provenance": []
    },
    "kernelspec": {
      "name": "python3",
      "display_name": "Python 3"
    },
    "language_info": {
      "name": "python"
    }
  },
  "cells": [
    {
      "cell_type": "code",
      "execution_count": null,
      "metadata": {
        "id": "9GizLzNbE1nK"
      },
      "outputs": [],
      "source": [
        "import pandas as pd\n",
        "df=pd.read_csv('BVP_1.csv')\n"
      ]
    },
    {
      "cell_type": "code",
      "source": [
        "df.head()"
      ],
      "metadata": {
        "colab": {
          "base_uri": "https://localhost:8080/",
          "height": 206
        },
        "id": "JpH01l8TE8vp",
        "outputId": "fef9f333-34aa-4d3c-8170-7eca9927d448"
      },
      "execution_count": null,
      "outputs": [
        {
          "output_type": "execute_result",
          "data": {
            "text/plain": [
              "   ppg\n",
              "0 -0.0\n",
              "1 -0.0\n",
              "2 -0.0\n",
              "3 -0.0\n",
              "4 -0.0"
            ],
            "text/html": [
              "\n",
              "  <div id=\"df-2e34b4a8-d7f5-4a03-88de-c356f5d42796\">\n",
              "    <div class=\"colab-df-container\">\n",
              "      <div>\n",
              "<style scoped>\n",
              "    .dataframe tbody tr th:only-of-type {\n",
              "        vertical-align: middle;\n",
              "    }\n",
              "\n",
              "    .dataframe tbody tr th {\n",
              "        vertical-align: top;\n",
              "    }\n",
              "\n",
              "    .dataframe thead th {\n",
              "        text-align: right;\n",
              "    }\n",
              "</style>\n",
              "<table border=\"1\" class=\"dataframe\">\n",
              "  <thead>\n",
              "    <tr style=\"text-align: right;\">\n",
              "      <th></th>\n",
              "      <th>ppg</th>\n",
              "    </tr>\n",
              "  </thead>\n",
              "  <tbody>\n",
              "    <tr>\n",
              "      <th>0</th>\n",
              "      <td>-0.0</td>\n",
              "    </tr>\n",
              "    <tr>\n",
              "      <th>1</th>\n",
              "      <td>-0.0</td>\n",
              "    </tr>\n",
              "    <tr>\n",
              "      <th>2</th>\n",
              "      <td>-0.0</td>\n",
              "    </tr>\n",
              "    <tr>\n",
              "      <th>3</th>\n",
              "      <td>-0.0</td>\n",
              "    </tr>\n",
              "    <tr>\n",
              "      <th>4</th>\n",
              "      <td>-0.0</td>\n",
              "    </tr>\n",
              "  </tbody>\n",
              "</table>\n",
              "</div>\n",
              "      <button class=\"colab-df-convert\" onclick=\"convertToInteractive('df-2e34b4a8-d7f5-4a03-88de-c356f5d42796')\"\n",
              "              title=\"Convert this dataframe to an interactive table.\"\n",
              "              style=\"display:none;\">\n",
              "        \n",
              "  <svg xmlns=\"http://www.w3.org/2000/svg\" height=\"24px\"viewBox=\"0 0 24 24\"\n",
              "       width=\"24px\">\n",
              "    <path d=\"M0 0h24v24H0V0z\" fill=\"none\"/>\n",
              "    <path d=\"M18.56 5.44l.94 2.06.94-2.06 2.06-.94-2.06-.94-.94-2.06-.94 2.06-2.06.94zm-11 1L8.5 8.5l.94-2.06 2.06-.94-2.06-.94L8.5 2.5l-.94 2.06-2.06.94zm10 10l.94 2.06.94-2.06 2.06-.94-2.06-.94-.94-2.06-.94 2.06-2.06.94z\"/><path d=\"M17.41 7.96l-1.37-1.37c-.4-.4-.92-.59-1.43-.59-.52 0-1.04.2-1.43.59L10.3 9.45l-7.72 7.72c-.78.78-.78 2.05 0 2.83L4 21.41c.39.39.9.59 1.41.59.51 0 1.02-.2 1.41-.59l7.78-7.78 2.81-2.81c.8-.78.8-2.07 0-2.86zM5.41 20L4 18.59l7.72-7.72 1.47 1.35L5.41 20z\"/>\n",
              "  </svg>\n",
              "      </button>\n",
              "      \n",
              "  <style>\n",
              "    .colab-df-container {\n",
              "      display:flex;\n",
              "      flex-wrap:wrap;\n",
              "      gap: 12px;\n",
              "    }\n",
              "\n",
              "    .colab-df-convert {\n",
              "      background-color: #E8F0FE;\n",
              "      border: none;\n",
              "      border-radius: 50%;\n",
              "      cursor: pointer;\n",
              "      display: none;\n",
              "      fill: #1967D2;\n",
              "      height: 32px;\n",
              "      padding: 0 0 0 0;\n",
              "      width: 32px;\n",
              "    }\n",
              "\n",
              "    .colab-df-convert:hover {\n",
              "      background-color: #E2EBFA;\n",
              "      box-shadow: 0px 1px 2px rgba(60, 64, 67, 0.3), 0px 1px 3px 1px rgba(60, 64, 67, 0.15);\n",
              "      fill: #174EA6;\n",
              "    }\n",
              "\n",
              "    [theme=dark] .colab-df-convert {\n",
              "      background-color: #3B4455;\n",
              "      fill: #D2E3FC;\n",
              "    }\n",
              "\n",
              "    [theme=dark] .colab-df-convert:hover {\n",
              "      background-color: #434B5C;\n",
              "      box-shadow: 0px 1px 3px 1px rgba(0, 0, 0, 0.15);\n",
              "      filter: drop-shadow(0px 1px 2px rgba(0, 0, 0, 0.3));\n",
              "      fill: #FFFFFF;\n",
              "    }\n",
              "  </style>\n",
              "\n",
              "      <script>\n",
              "        const buttonEl =\n",
              "          document.querySelector('#df-2e34b4a8-d7f5-4a03-88de-c356f5d42796 button.colab-df-convert');\n",
              "        buttonEl.style.display =\n",
              "          google.colab.kernel.accessAllowed ? 'block' : 'none';\n",
              "\n",
              "        async function convertToInteractive(key) {\n",
              "          const element = document.querySelector('#df-2e34b4a8-d7f5-4a03-88de-c356f5d42796');\n",
              "          const dataTable =\n",
              "            await google.colab.kernel.invokeFunction('convertToInteractive',\n",
              "                                                     [key], {});\n",
              "          if (!dataTable) return;\n",
              "\n",
              "          const docLinkHtml = 'Like what you see? Visit the ' +\n",
              "            '<a target=\"_blank\" href=https://colab.research.google.com/notebooks/data_table.ipynb>data table notebook</a>'\n",
              "            + ' to learn more about interactive tables.';\n",
              "          element.innerHTML = '';\n",
              "          dataTable['output_type'] = 'display_data';\n",
              "          await google.colab.output.renderOutput(dataTable, element);\n",
              "          const docLink = document.createElement('div');\n",
              "          docLink.innerHTML = docLinkHtml;\n",
              "          element.appendChild(docLink);\n",
              "        }\n",
              "      </script>\n",
              "    </div>\n",
              "  </div>\n",
              "  "
            ]
          },
          "metadata": {},
          "execution_count": 31
        }
      ]
    },
    {
      "cell_type": "code",
      "source": [
        "df1=df[188800:208000]\n",
        "df1.head()\n",
        "df1.shape"
      ],
      "metadata": {
        "id": "NS1wBHnSFKPO",
        "colab": {
          "base_uri": "https://localhost:8080/"
        },
        "outputId": "70032d02-e9fa-41d8-db6a-0d89682eacb7"
      },
      "execution_count": null,
      "outputs": [
        {
          "output_type": "execute_result",
          "data": {
            "text/plain": [
              "(19200, 1)"
            ]
          },
          "metadata": {},
          "execution_count": 32
        }
      ]
    },
    {
      "cell_type": "code",
      "source": [
        "df1.tail()"
      ],
      "metadata": {
        "colab": {
          "base_uri": "https://localhost:8080/",
          "height": 206
        },
        "id": "5wzqk20RxKgC",
        "outputId": "6e6fa487-520f-44ec-fdb9-4fad89d9ed11"
      },
      "execution_count": null,
      "outputs": [
        {
          "output_type": "execute_result",
          "data": {
            "text/plain": [
              "          ppg\n",
              "207995 -15.76\n",
              "207996 -17.31\n",
              "207997 -21.14\n",
              "207998 -27.25\n",
              "207999 -34.91"
            ],
            "text/html": [
              "\n",
              "  <div id=\"df-356b5bb1-5baf-4f02-aaf2-3c2b8a843e82\">\n",
              "    <div class=\"colab-df-container\">\n",
              "      <div>\n",
              "<style scoped>\n",
              "    .dataframe tbody tr th:only-of-type {\n",
              "        vertical-align: middle;\n",
              "    }\n",
              "\n",
              "    .dataframe tbody tr th {\n",
              "        vertical-align: top;\n",
              "    }\n",
              "\n",
              "    .dataframe thead th {\n",
              "        text-align: right;\n",
              "    }\n",
              "</style>\n",
              "<table border=\"1\" class=\"dataframe\">\n",
              "  <thead>\n",
              "    <tr style=\"text-align: right;\">\n",
              "      <th></th>\n",
              "      <th>ppg</th>\n",
              "    </tr>\n",
              "  </thead>\n",
              "  <tbody>\n",
              "    <tr>\n",
              "      <th>207995</th>\n",
              "      <td>-15.76</td>\n",
              "    </tr>\n",
              "    <tr>\n",
              "      <th>207996</th>\n",
              "      <td>-17.31</td>\n",
              "    </tr>\n",
              "    <tr>\n",
              "      <th>207997</th>\n",
              "      <td>-21.14</td>\n",
              "    </tr>\n",
              "    <tr>\n",
              "      <th>207998</th>\n",
              "      <td>-27.25</td>\n",
              "    </tr>\n",
              "    <tr>\n",
              "      <th>207999</th>\n",
              "      <td>-34.91</td>\n",
              "    </tr>\n",
              "  </tbody>\n",
              "</table>\n",
              "</div>\n",
              "      <button class=\"colab-df-convert\" onclick=\"convertToInteractive('df-356b5bb1-5baf-4f02-aaf2-3c2b8a843e82')\"\n",
              "              title=\"Convert this dataframe to an interactive table.\"\n",
              "              style=\"display:none;\">\n",
              "        \n",
              "  <svg xmlns=\"http://www.w3.org/2000/svg\" height=\"24px\"viewBox=\"0 0 24 24\"\n",
              "       width=\"24px\">\n",
              "    <path d=\"M0 0h24v24H0V0z\" fill=\"none\"/>\n",
              "    <path d=\"M18.56 5.44l.94 2.06.94-2.06 2.06-.94-2.06-.94-.94-2.06-.94 2.06-2.06.94zm-11 1L8.5 8.5l.94-2.06 2.06-.94-2.06-.94L8.5 2.5l-.94 2.06-2.06.94zm10 10l.94 2.06.94-2.06 2.06-.94-2.06-.94-.94-2.06-.94 2.06-2.06.94z\"/><path d=\"M17.41 7.96l-1.37-1.37c-.4-.4-.92-.59-1.43-.59-.52 0-1.04.2-1.43.59L10.3 9.45l-7.72 7.72c-.78.78-.78 2.05 0 2.83L4 21.41c.39.39.9.59 1.41.59.51 0 1.02-.2 1.41-.59l7.78-7.78 2.81-2.81c.8-.78.8-2.07 0-2.86zM5.41 20L4 18.59l7.72-7.72 1.47 1.35L5.41 20z\"/>\n",
              "  </svg>\n",
              "      </button>\n",
              "      \n",
              "  <style>\n",
              "    .colab-df-container {\n",
              "      display:flex;\n",
              "      flex-wrap:wrap;\n",
              "      gap: 12px;\n",
              "    }\n",
              "\n",
              "    .colab-df-convert {\n",
              "      background-color: #E8F0FE;\n",
              "      border: none;\n",
              "      border-radius: 50%;\n",
              "      cursor: pointer;\n",
              "      display: none;\n",
              "      fill: #1967D2;\n",
              "      height: 32px;\n",
              "      padding: 0 0 0 0;\n",
              "      width: 32px;\n",
              "    }\n",
              "\n",
              "    .colab-df-convert:hover {\n",
              "      background-color: #E2EBFA;\n",
              "      box-shadow: 0px 1px 2px rgba(60, 64, 67, 0.3), 0px 1px 3px 1px rgba(60, 64, 67, 0.15);\n",
              "      fill: #174EA6;\n",
              "    }\n",
              "\n",
              "    [theme=dark] .colab-df-convert {\n",
              "      background-color: #3B4455;\n",
              "      fill: #D2E3FC;\n",
              "    }\n",
              "\n",
              "    [theme=dark] .colab-df-convert:hover {\n",
              "      background-color: #434B5C;\n",
              "      box-shadow: 0px 1px 3px 1px rgba(0, 0, 0, 0.15);\n",
              "      filter: drop-shadow(0px 1px 2px rgba(0, 0, 0, 0.3));\n",
              "      fill: #FFFFFF;\n",
              "    }\n",
              "  </style>\n",
              "\n",
              "      <script>\n",
              "        const buttonEl =\n",
              "          document.querySelector('#df-356b5bb1-5baf-4f02-aaf2-3c2b8a843e82 button.colab-df-convert');\n",
              "        buttonEl.style.display =\n",
              "          google.colab.kernel.accessAllowed ? 'block' : 'none';\n",
              "\n",
              "        async function convertToInteractive(key) {\n",
              "          const element = document.querySelector('#df-356b5bb1-5baf-4f02-aaf2-3c2b8a843e82');\n",
              "          const dataTable =\n",
              "            await google.colab.kernel.invokeFunction('convertToInteractive',\n",
              "                                                     [key], {});\n",
              "          if (!dataTable) return;\n",
              "\n",
              "          const docLinkHtml = 'Like what you see? Visit the ' +\n",
              "            '<a target=\"_blank\" href=https://colab.research.google.com/notebooks/data_table.ipynb>data table notebook</a>'\n",
              "            + ' to learn more about interactive tables.';\n",
              "          element.innerHTML = '';\n",
              "          dataTable['output_type'] = 'display_data';\n",
              "          await google.colab.output.renderOutput(dataTable, element);\n",
              "          const docLink = document.createElement('div');\n",
              "          docLink.innerHTML = docLinkHtml;\n",
              "          element.appendChild(docLink);\n",
              "        }\n",
              "      </script>\n",
              "    </div>\n",
              "  </div>\n",
              "  "
            ]
          },
          "metadata": {},
          "execution_count": 33
        }
      ]
    },
    {
      "cell_type": "code",
      "source": [
        "import matplotlib.pyplot as plt\n",
        "plt.plot(df1)"
      ],
      "metadata": {
        "colab": {
          "base_uri": "https://localhost:8080/",
          "height": 282
        },
        "id": "jM2egWEEFNIW",
        "outputId": "7af583a5-e4f2-438e-b5fc-a83edbebbaa1"
      },
      "execution_count": null,
      "outputs": [
        {
          "output_type": "execute_result",
          "data": {
            "text/plain": [
              "[<matplotlib.lines.Line2D at 0x7f85383d7350>]"
            ]
          },
          "metadata": {},
          "execution_count": 34
        },
        {
          "output_type": "display_data",
          "data": {
            "text/plain": [
              "<Figure size 432x288 with 1 Axes>"
            ],
            "image/png": "[encoded data removed]"
          },
          "metadata": {
            "needs_background": "light"
          }
        }
      ]
    },
    {
      "cell_type": "code",
      "source": [
        "import numpy as np"
      ],
      "metadata": {
        "id": "Go2yUUBaFPBk"
      },
      "execution_count": null,
      "outputs": []
    },
    {
      "cell_type": "code",
      "source": [
        "from sklearn.preprocessing import MinMaxScaler\n",
        "scaler=MinMaxScaler(feature_range=(0,1))\n",
        "df1=scaler.fit_transform(np.array(df1).reshape(-1,1))"
      ],
      "metadata": {
        "id": "QVsFYn0oFWHs"
      },
      "execution_count": null,
      "outputs": []
    },
    {
      "cell_type": "code",
      "source": [
        "##splitting dataset into train and test split\n",
        "training_size=int(len(df1)*0.99)\n",
        "test_size=len(df1)-training_size\n",
        "train_data,test_data=df1[0:training_size,:],df1[training_size:len(df1),:1]"
      ],
      "metadata": {
        "id": "v72gXyZWFaRU"
      },
      "execution_count": null,
      "outputs": []
    },
    {
      "cell_type": "code",
      "source": [
        "training_size,test_size"
      ],
      "metadata": {
        "colab": {
          "base_uri": "https://localhost:8080/"
        },
        "id": "W8ROBlq2FeJ3",
        "outputId": "9c27d55e-feb8-4393-eacb-9542ffbbc87a"
      },
      "execution_count": null,
      "outputs": [
        {
          "output_type": "execute_result",
          "data": {
            "text/plain": [
              "(19008, 192)"
            ]
          },
          "metadata": {},
          "execution_count": 38
        }
      ]
    },
    {
      "cell_type": "code",
      "source": [
        "import numpy\n",
        "# convert an array of values into a dataset matrix\n",
        "def create_dataset(dataset, time_step=1):\n",
        "\tdataX, dataY = [], []\n",
        "\tfor i in range(len(dataset)-time_step-1):\n",
        "\t\ta = dataset[i:(i+time_step), 0]   ###i=0, 0,1,2,3-----99   100 \n",
        "\t\tdataX.append(a)\n",
        "\t\tdataY.append(dataset[i + time_step, 0])\n",
        "\treturn numpy.array(dataX), numpy.array(dataY)"
      ],
      "metadata": {
        "id": "wPwpmqySFfyO"
      },
      "execution_count": null,
      "outputs": []
    },
    {
      "cell_type": "code",
      "source": [
        "# reshape into X=t,t+1,t+2,t+3 and Y=t+4\n",
        "time_step = 10\n",
        "X_train, y_train = create_dataset(train_data, time_step)\n",
        "X_test, ytest = create_dataset(test_data, time_step)"
      ],
      "metadata": {
        "id": "uXiNZ8ZyFlhG"
      },
      "execution_count": null,
      "outputs": []
    },
    {
      "cell_type": "code",
      "source": [
        "print(X_train.shape), print(y_train.shape)"
      ],
      "metadata": {
        "colab": {
          "base_uri": "https://localhost:8080/"
        },
        "id": "y-eovBcYFpcU",
        "outputId": "ce9351dc-96de-488b-e0b7-275134776673"
      },
      "execution_count": null,
      "outputs": [
        {
          "output_type": "stream",
          "name": "stdout",
          "text": [
            "(18997, 10)\n",
            "(18997,)\n"
          ]
        },
        {
          "output_type": "execute_result",
          "data": {
            "text/plain": [
              "(None, None)"
            ]
          },
          "metadata": {},
          "execution_count": 41
        }
      ]
    },
    {
      "cell_type": "code",
      "source": [
        "print(X_test.shape), print(ytest.shape)"
      ],
      "metadata": {
        "colab": {
          "base_uri": "https://localhost:8080/"
        },
        "id": "r_yZls4BFroY",
        "outputId": "cebcc7e5-b68b-42ec-8c35-81139d20c2e8"
      },
      "execution_count": null,
      "outputs": [
        {
          "output_type": "stream",
          "name": "stdout",
          "text": [
            "(181, 10)\n",
            "(181,)\n"
          ]
        },
        {
          "output_type": "execute_result",
          "data": {
            "text/plain": [
              "(None, None)"
            ]
          },
          "metadata": {},
          "execution_count": 42
        }
      ]
    },
    {
      "cell_type": "code",
      "source": [
        "# reshape input to be [samples, time steps, features] which is required for LSTM\n",
        "X_train =X_train.reshape(X_train.shape[0] ,X_train.shape[1], 1)\n",
        "X_test = X_test.reshape(X_test.shape[0],X_test.shape[1], 1 )"
      ],
      "metadata": {
        "id": "ZwSm_LdhFxJL"
      },
      "execution_count": null,
      "outputs": []
    },
    {
      "cell_type": "code",
      "source": [
        "### Create the Stacked LSTM model\n",
        "from tensorflow.keras.models import Sequential\n",
        "from tensorflow.keras.layers import Dense, Dropout\n",
        "from tensorflow.keras.layers import LSTM"
      ],
      "metadata": {
        "id": "k0dyycXqFz3X"
      },
      "execution_count": null,
      "outputs": []
    },
    {
      "cell_type": "code",
      "source": [
        "# create and fit the LSTM network, optimizer=adam, 25 neurons, dropout 0.1\n",
        "model = Sequential()\n",
        "model.add(LSTM(25, input_shape=(time_step,1)))\n",
        "model.add(Dropout(0.1))\n",
        "model.add(Dense(1))\n",
        "model.compile(loss='mse', optimizer='adam')"
      ],
      "metadata": {
        "id": "nuyc0gR_F1-A"
      },
      "execution_count": null,
      "outputs": []
    },
    {
      "cell_type": "code",
      "source": [
        "model.summary()"
      ],
      "metadata": {
        "colab": {
          "base_uri": "https://localhost:8080/"
        },
        "id": "KGOPMpmgF40p",
        "outputId": "d4aeb4bd-cef7-4bf6-c99b-e760f69c4304"
      },
      "execution_count": null,
      "outputs": [
        {
          "output_type": "stream",
          "name": "stdout",
          "text": [
            "Model: \"sequential_1\"\n",
            "_________________________________________________________________\n",
            " Layer (type)                Output Shape              Param #   \n",
            "=================================================================\n",
            " lstm_1 (LSTM)               (None, 25)                2700      \n",
            "                                                                 \n",
            " dropout_1 (Dropout)         (None, 25)                0         \n",
            "                                                                 \n",
            " dense_1 (Dense)             (None, 1)                 26        \n",
            "                                                                 \n",
            "=================================================================\n",
            "Total params: 2,726\n",
            "Trainable params: 2,726\n",
            "Non-trainable params: 0\n",
            "_________________________________________________________________\n"
          ]
        }
      ]
    },
    {
      "cell_type": "code",
      "source": [
        "model.fit(X_train, y_train, epochs=200, batch_size=240, verbose=1)"
      ],
      "metadata": {
        "colab": {
          "base_uri": "https://localhost:8080/"
        },
        "id": "BPm_BqJdF7Ww",
        "outputId": "1d76a301-cc45-474b-a0fa-b4f1b607ae7e"
      },
      "execution_count": null,
      "outputs": [
        {
          "output_type": "stream",
          "name": "stdout",
          "text": [
            "Epoch 1/200\n",
            "80/80 [==============================] - 4s 10ms/step - loss: 0.0299\n",
            "Epoch 2/200\n",
            "80/80 [==============================] - 1s 10ms/step - loss: 0.0026\n",
            "Epoch 3/200\n",
            "80/80 [==============================] - 1s 10ms/step - loss: 0.0024\n",
            "Epoch 4/200\n",
            "80/80 [==============================] - 1s 10ms/step - loss: 0.0023\n",
            "Epoch 5/200\n",
            "80/80 [==============================] - 1s 10ms/step - loss: 0.0021\n",
            "Epoch 6/200\n",
            "80/80 [==============================] - 1s 9ms/step - loss: 0.0020\n",
            "Epoch 7/200\n",
            "80/80 [==============================] - 1s 10ms/step - loss: 0.0019\n",
            "Epoch 8/200\n",
            "80/80 [==============================] - 1s 10ms/step - loss: 0.0017\n",
            "Epoch 9/200\n",
            "80/80 [==============================] - 1s 10ms/step - loss: 0.0016\n",
            "Epoch 10/200\n",
            "80/80 [==============================] - 1s 10ms/step - loss: 0.0016\n",
            "Epoch 11/200\n",
            "80/80 [==============================] - 1s 10ms/step - loss: 0.0014\n",
            "Epoch 12/200\n",
            "80/80 [==============================] - 1s 10ms/step - loss: 0.0014\n",
            "Epoch 13/200\n",
            "80/80 [==============================] - 1s 10ms/step - loss: 0.0013\n",
            "Epoch 14/200\n",
            "80/80 [==============================] - 1s 9ms/step - loss: 0.0012\n",
            "Epoch 15/200\n",
            "80/80 [==============================] - 1s 10ms/step - loss: 0.0011\n",
            "Epoch 16/200\n",
            "80/80 [==============================] - 1s 9ms/step - loss: 0.0010\n",
            "Epoch 17/200\n",
            "80/80 [==============================] - 1s 9ms/step - loss: 9.9442e-04\n",
            "Epoch 18/200\n",
            "80/80 [==============================] - 1s 10ms/step - loss: 9.2641e-04\n",
            "Epoch 19/200\n",
            "80/80 [==============================] - 1s 9ms/step - loss: 8.7376e-04\n",
            "Epoch 20/200\n",
            "80/80 [==============================] - 1s 10ms/step - loss: 8.5255e-04\n",
            "Epoch 21/200\n",
            "80/80 [==============================] - 1s 9ms/step - loss: 8.3486e-04\n",
            "Epoch 22/200\n",
            "80/80 [==============================] - 1s 9ms/step - loss: 8.0351e-04\n",
            "Epoch 23/200\n",
            "80/80 [==============================] - 1s 10ms/step - loss: 7.8078e-04\n",
            "Epoch 24/200\n",
            "80/80 [==============================] - 1s 9ms/step - loss: 7.4990e-04\n",
            "Epoch 25/200\n",
            "80/80 [==============================] - 1s 10ms/step - loss: 7.3226e-04\n",
            "Epoch 26/200\n",
            "80/80 [==============================] - 1s 10ms/step - loss: 7.2103e-04\n",
            "Epoch 27/200\n",
            "80/80 [==============================] - 1s 10ms/step - loss: 6.9828e-04\n",
            "Epoch 28/200\n",
            "80/80 [==============================] - 1s 10ms/step - loss: 6.6943e-04\n",
            "Epoch 29/200\n",
            "80/80 [==============================] - 1s 10ms/step - loss: 6.6470e-04\n",
            "Epoch 30/200\n",
            "80/80 [==============================] - 1s 10ms/step - loss: 6.1228e-04\n",
            "Epoch 31/200\n",
            "80/80 [==============================] - 1s 10ms/step - loss: 6.2448e-04\n",
            "Epoch 32/200\n",
            "80/80 [==============================] - 1s 10ms/step - loss: 5.9216e-04\n",
            "Epoch 33/200\n",
            "80/80 [==============================] - 1s 10ms/step - loss: 5.7472e-04\n",
            "Epoch 34/200\n",
            "80/80 [==============================] - 1s 10ms/step - loss: 5.4393e-04\n",
            "Epoch 35/200\n",
            "80/80 [==============================] - 1s 9ms/step - loss: 5.2880e-04\n",
            "Epoch 36/200\n",
            "80/80 [==============================] - 1s 10ms/step - loss: 5.1490e-04\n",
            "Epoch 37/200\n",
            "80/80 [==============================] - 1s 10ms/step - loss: 4.8510e-04\n",
            "Epoch 38/200\n",
            "80/80 [==============================] - 1s 10ms/step - loss: 4.7168e-04\n",
            "Epoch 39/200\n",
            "80/80 [==============================] - 1s 10ms/step - loss: 4.5156e-04\n",
            "Epoch 40/200\n",
            "80/80 [==============================] - 1s 10ms/step - loss: 4.2257e-04\n",
            "Epoch 41/200\n",
            "80/80 [==============================] - 1s 10ms/step - loss: 4.1443e-04\n",
            "Epoch 42/200\n",
            "80/80 [==============================] - 1s 10ms/step - loss: 3.8668e-04\n",
            "Epoch 43/200\n",
            "80/80 [==============================] - 1s 10ms/step - loss: 3.6606e-04\n",
            "Epoch 44/200\n",
            "80/80 [==============================] - 1s 10ms/step - loss: 3.5468e-04\n",
            "Epoch 45/200\n",
            "80/80 [==============================] - 1s 10ms/step - loss: 3.3487e-04\n",
            "Epoch 46/200\n",
            "80/80 [==============================] - 1s 10ms/step - loss: 3.1213e-04\n",
            "Epoch 47/200\n",
            "80/80 [==============================] - 1s 10ms/step - loss: 3.0352e-04\n",
            "Epoch 48/200\n",
            "80/80 [==============================] - 1s 10ms/step - loss: 2.9146e-04\n",
            "Epoch 49/200\n",
            "80/80 [==============================] - 1s 10ms/step - loss: 2.7010e-04\n",
            "Epoch 50/200\n",
            "80/80 [==============================] - 1s 10ms/step - loss: 2.5453e-04\n",
            "Epoch 51/200\n",
            "80/80 [==============================] - 1s 11ms/step - loss: 2.4870e-04\n",
            "Epoch 52/200\n",
            "80/80 [==============================] - 1s 15ms/step - loss: 2.3424e-04\n",
            "Epoch 53/200\n",
            "80/80 [==============================] - 1s 15ms/step - loss: 2.1705e-04\n",
            "Epoch 54/200\n",
            "80/80 [==============================] - 1s 11ms/step - loss: 2.0205e-04\n",
            "Epoch 55/200\n",
            "80/80 [==============================] - 1s 10ms/step - loss: 1.9046e-04\n",
            "Epoch 56/200\n",
            "80/80 [==============================] - 1s 9ms/step - loss: 1.8532e-04\n",
            "Epoch 57/200\n",
            "80/80 [==============================] - 1s 10ms/step - loss: 1.7198e-04\n",
            "Epoch 58/200\n",
            "80/80 [==============================] - 1s 10ms/step - loss: 1.6181e-04\n",
            "Epoch 59/200\n",
            "80/80 [==============================] - 1s 10ms/step - loss: 1.5605e-04\n",
            "Epoch 60/200\n",
            "80/80 [==============================] - 1s 9ms/step - loss: 1.5139e-04\n",
            "Epoch 61/200\n",
            "80/80 [==============================] - 1s 10ms/step - loss: 1.4252e-04\n",
            "Epoch 62/200\n",
            "80/80 [==============================] - 1s 10ms/step - loss: 1.3193e-04\n",
            "Epoch 63/200\n",
            "80/80 [==============================] - 1s 10ms/step - loss: 1.2816e-04\n",
            "Epoch 64/200\n",
            "80/80 [==============================] - 1s 10ms/step - loss: 1.1968e-04\n",
            "Epoch 65/200\n",
            "80/80 [==============================] - 1s 9ms/step - loss: 1.1379e-04\n",
            "Epoch 66/200\n",
            "80/80 [==============================] - 1s 10ms/step - loss: 1.0925e-04\n",
            "Epoch 67/200\n",
            "80/80 [==============================] - 1s 10ms/step - loss: 1.0235e-04\n",
            "Epoch 68/200\n",
            "80/80 [==============================] - 1s 10ms/step - loss: 9.8371e-05\n",
            "Epoch 69/200\n",
            "80/80 [==============================] - 1s 9ms/step - loss: 9.1109e-05\n",
            "Epoch 70/200\n",
            "80/80 [==============================] - 1s 9ms/step - loss: 8.7019e-05\n",
            "Epoch 71/200\n",
            "80/80 [==============================] - 1s 10ms/step - loss: 7.9987e-05\n",
            "Epoch 72/200\n",
            "80/80 [==============================] - 1s 10ms/step - loss: 8.1826e-05\n",
            "Epoch 73/200\n",
            "80/80 [==============================] - 1s 10ms/step - loss: 7.4390e-05\n",
            "Epoch 74/200\n",
            "80/80 [==============================] - 1s 10ms/step - loss: 7.5051e-05\n",
            "Epoch 75/200\n",
            "80/80 [==============================] - 1s 10ms/step - loss: 6.7394e-05\n",
            "Epoch 76/200\n",
            "80/80 [==============================] - 1s 10ms/step - loss: 6.4720e-05\n",
            "Epoch 77/200\n",
            "80/80 [==============================] - 1s 10ms/step - loss: 6.2406e-05\n",
            "Epoch 78/200\n",
            "80/80 [==============================] - 1s 10ms/step - loss: 5.8358e-05\n",
            "Epoch 79/200\n",
            "80/80 [==============================] - 1s 10ms/step - loss: 5.6691e-05\n",
            "Epoch 80/200\n",
            "80/80 [==============================] - 1s 10ms/step - loss: 5.8563e-05\n",
            "Epoch 81/200\n",
            "80/80 [==============================] - 1s 10ms/step - loss: 5.0237e-05\n",
            "Epoch 82/200\n",
            "80/80 [==============================] - 1s 10ms/step - loss: 4.9912e-05\n",
            "Epoch 83/200\n",
            "80/80 [==============================] - 1s 10ms/step - loss: 4.3618e-05\n",
            "Epoch 84/200\n",
            "80/80 [==============================] - 1s 10ms/step - loss: 4.5182e-05\n",
            "Epoch 85/200\n",
            "80/80 [==============================] - 1s 10ms/step - loss: 4.6442e-05\n",
            "Epoch 86/200\n",
            "80/80 [==============================] - 1s 10ms/step - loss: 3.9054e-05\n",
            "Epoch 87/200\n",
            "80/80 [==============================] - 1s 10ms/step - loss: 4.5824e-05\n",
            "Epoch 88/200\n",
            "80/80 [==============================] - 1s 10ms/step - loss: 4.0514e-05\n",
            "Epoch 89/200\n",
            "80/80 [==============================] - 1s 15ms/step - loss: 4.2055e-05\n",
            "Epoch 90/200\n",
            "80/80 [==============================] - 1s 16ms/step - loss: 4.1144e-05\n",
            "Epoch 91/200\n",
            "80/80 [==============================] - 1s 10ms/step - loss: 3.6441e-05\n",
            "Epoch 92/200\n",
            "80/80 [==============================] - 1s 10ms/step - loss: 3.4102e-05\n",
            "Epoch 93/200\n",
            "80/80 [==============================] - 1s 10ms/step - loss: 3.2982e-05\n",
            "Epoch 94/200\n",
            "80/80 [==============================] - 1s 10ms/step - loss: 3.3196e-05\n",
            "Epoch 95/200\n",
            "80/80 [==============================] - 1s 10ms/step - loss: 3.2428e-05\n",
            "Epoch 96/200\n",
            "80/80 [==============================] - 1s 10ms/step - loss: 3.3095e-05\n",
            "Epoch 97/200\n",
            "80/80 [==============================] - 1s 10ms/step - loss: 3.4482e-05\n",
            "Epoch 98/200\n",
            "80/80 [==============================] - 1s 10ms/step - loss: 3.1148e-05\n",
            "Epoch 99/200\n",
            "80/80 [==============================] - 1s 10ms/step - loss: 2.8599e-05\n",
            "Epoch 100/200\n",
            "80/80 [==============================] - 1s 9ms/step - loss: 3.1657e-05\n",
            "Epoch 101/200\n",
            "80/80 [==============================] - 1s 10ms/step - loss: 2.9383e-05\n",
            "Epoch 102/200\n",
            "80/80 [==============================] - 1s 10ms/step - loss: 3.0681e-05\n",
            "Epoch 103/200\n",
            "80/80 [==============================] - 1s 10ms/step - loss: 2.7086e-05\n",
            "Epoch 104/200\n",
            "80/80 [==============================] - 1s 10ms/step - loss: 2.8329e-05\n",
            "Epoch 105/200\n",
            "80/80 [==============================] - 1s 10ms/step - loss: 2.6510e-05\n",
            "Epoch 106/200\n",
            "80/80 [==============================] - 1s 10ms/step - loss: 2.5275e-05\n",
            "Epoch 107/200\n",
            "80/80 [==============================] - 1s 10ms/step - loss: 2.5633e-05\n",
            "Epoch 108/200\n",
            "80/80 [==============================] - 1s 10ms/step - loss: 2.6402e-05\n",
            "Epoch 109/200\n",
            "80/80 [==============================] - 1s 10ms/step - loss: 2.5752e-05\n",
            "Epoch 110/200\n",
            "80/80 [==============================] - 1s 10ms/step - loss: 2.5828e-05\n",
            "Epoch 111/200\n",
            "80/80 [==============================] - 1s 10ms/step - loss: 2.5303e-05\n",
            "Epoch 112/200\n",
            "80/80 [==============================] - 1s 10ms/step - loss: 2.5763e-05\n",
            "Epoch 113/200\n",
            "80/80 [==============================] - 1s 10ms/step - loss: 2.6866e-05\n",
            "Epoch 114/200\n",
            "80/80 [==============================] - 1s 10ms/step - loss: 2.3930e-05\n",
            "Epoch 115/200\n",
            "80/80 [==============================] - 1s 10ms/step - loss: 2.5708e-05\n",
            "Epoch 116/200\n",
            "80/80 [==============================] - 1s 10ms/step - loss: 2.4469e-05\n",
            "Epoch 117/200\n",
            "80/80 [==============================] - 1s 10ms/step - loss: 2.7320e-05\n",
            "Epoch 118/200\n",
            "80/80 [==============================] - 1s 10ms/step - loss: 2.5776e-05\n",
            "Epoch 119/200\n",
            "80/80 [==============================] - 1s 10ms/step - loss: 2.1237e-05\n",
            "Epoch 120/200\n",
            "80/80 [==============================] - 1s 9ms/step - loss: 2.2816e-05\n",
            "Epoch 121/200\n",
            "80/80 [==============================] - 1s 10ms/step - loss: 2.5506e-05\n",
            "Epoch 122/200\n",
            "80/80 [==============================] - 1s 10ms/step - loss: 2.5853e-05\n",
            "Epoch 123/200\n",
            "80/80 [==============================] - 1s 10ms/step - loss: 2.3557e-05\n",
            "Epoch 124/200\n",
            "80/80 [==============================] - 1s 10ms/step - loss: 2.1114e-05\n",
            "Epoch 125/200\n",
            "80/80 [==============================] - 1s 10ms/step - loss: 2.1023e-05\n",
            "Epoch 126/200\n",
            "80/80 [==============================] - 1s 10ms/step - loss: 2.0065e-05\n",
            "Epoch 127/200\n",
            "80/80 [==============================] - 1s 10ms/step - loss: 2.2291e-05\n",
            "Epoch 128/200\n",
            "80/80 [==============================] - 1s 10ms/step - loss: 2.1773e-05\n",
            "Epoch 129/200\n",
            "80/80 [==============================] - 1s 15ms/step - loss: 2.3150e-05\n",
            "Epoch 130/200\n",
            "80/80 [==============================] - 1s 15ms/step - loss: 2.1142e-05\n",
            "Epoch 131/200\n",
            "80/80 [==============================] - 1s 13ms/step - loss: 2.0700e-05\n",
            "Epoch 132/200\n",
            "80/80 [==============================] - 1s 10ms/step - loss: 2.1812e-05\n",
            "Epoch 133/200\n",
            "80/80 [==============================] - 1s 9ms/step - loss: 2.1519e-05\n",
            "Epoch 134/200\n",
            "80/80 [==============================] - 1s 10ms/step - loss: 2.2337e-05\n",
            "Epoch 135/200\n",
            "80/80 [==============================] - 1s 10ms/step - loss: 2.0876e-05\n",
            "Epoch 136/200\n",
            "80/80 [==============================] - 1s 10ms/step - loss: 2.0835e-05\n",
            "Epoch 137/200\n",
            "80/80 [==============================] - 1s 10ms/step - loss: 1.9292e-05\n",
            "Epoch 138/200\n",
            "80/80 [==============================] - 1s 10ms/step - loss: 2.2049e-05\n",
            "Epoch 139/200\n",
            "80/80 [==============================] - 1s 10ms/step - loss: 2.1640e-05\n",
            "Epoch 140/200\n",
            "80/80 [==============================] - 1s 10ms/step - loss: 2.0107e-05\n",
            "Epoch 141/200\n",
            "80/80 [==============================] - 1s 10ms/step - loss: 2.0622e-05\n",
            "Epoch 142/200\n",
            "80/80 [==============================] - 1s 10ms/step - loss: 2.1267e-05\n",
            "Epoch 143/200\n",
            "80/80 [==============================] - 1s 10ms/step - loss: 2.2212e-05\n",
            "Epoch 144/200\n",
            "80/80 [==============================] - 1s 10ms/step - loss: 2.0558e-05\n",
            "Epoch 145/200\n",
            "80/80 [==============================] - 1s 10ms/step - loss: 1.8691e-05\n",
            "Epoch 146/200\n",
            "80/80 [==============================] - 1s 10ms/step - loss: 1.9408e-05\n",
            "Epoch 147/200\n",
            "80/80 [==============================] - 1s 10ms/step - loss: 1.9205e-05\n",
            "Epoch 148/200\n",
            "80/80 [==============================] - 1s 10ms/step - loss: 2.1335e-05\n",
            "Epoch 149/200\n",
            "80/80 [==============================] - 1s 10ms/step - loss: 2.0164e-05\n",
            "Epoch 150/200\n",
            "80/80 [==============================] - 1s 10ms/step - loss: 1.8224e-05\n",
            "Epoch 151/200\n",
            "80/80 [==============================] - 1s 9ms/step - loss: 2.1060e-05\n",
            "Epoch 152/200\n",
            "80/80 [==============================] - 1s 10ms/step - loss: 1.8227e-05\n",
            "Epoch 153/200\n",
            "80/80 [==============================] - 1s 10ms/step - loss: 1.8586e-05\n",
            "Epoch 154/200\n",
            "80/80 [==============================] - 1s 10ms/step - loss: 1.9446e-05\n",
            "Epoch 155/200\n",
            "80/80 [==============================] - 1s 10ms/step - loss: 1.7822e-05\n",
            "Epoch 156/200\n",
            "80/80 [==============================] - 1s 10ms/step - loss: 1.8189e-05\n",
            "Epoch 157/200\n",
            "80/80 [==============================] - 1s 10ms/step - loss: 1.9443e-05\n",
            "Epoch 158/200\n",
            "80/80 [==============================] - 1s 10ms/step - loss: 1.8784e-05\n",
            "Epoch 159/200\n",
            "80/80 [==============================] - 1s 10ms/step - loss: 1.8527e-05\n",
            "Epoch 160/200\n",
            "80/80 [==============================] - 1s 13ms/step - loss: 1.9760e-05\n",
            "Epoch 161/200\n",
            "80/80 [==============================] - 1s 10ms/step - loss: 1.8067e-05\n",
            "Epoch 162/200\n",
            "80/80 [==============================] - 1s 10ms/step - loss: 1.9593e-05\n",
            "Epoch 163/200\n",
            "80/80 [==============================] - 1s 10ms/step - loss: 1.9441e-05\n",
            "Epoch 164/200\n",
            "80/80 [==============================] - 1s 10ms/step - loss: 1.8186e-05\n",
            "Epoch 165/200\n",
            "80/80 [==============================] - 1s 10ms/step - loss: 2.3386e-05\n",
            "Epoch 166/200\n",
            "80/80 [==============================] - 1s 10ms/step - loss: 1.7698e-05\n",
            "Epoch 167/200\n",
            "80/80 [==============================] - 1s 10ms/step - loss: 1.8532e-05\n",
            "Epoch 168/200\n",
            "80/80 [==============================] - 1s 10ms/step - loss: 1.9146e-05\n",
            "Epoch 169/200\n",
            "80/80 [==============================] - 1s 10ms/step - loss: 1.8372e-05\n",
            "Epoch 170/200\n",
            "80/80 [==============================] - 1s 10ms/step - loss: 1.8228e-05\n",
            "Epoch 171/200\n",
            "80/80 [==============================] - 1s 10ms/step - loss: 1.7384e-05\n",
            "Epoch 172/200\n",
            "80/80 [==============================] - 1s 10ms/step - loss: 2.0025e-05\n",
            "Epoch 173/200\n",
            "80/80 [==============================] - 1s 10ms/step - loss: 1.8775e-05\n",
            "Epoch 174/200\n",
            "80/80 [==============================] - 1s 10ms/step - loss: 1.8538e-05\n",
            "Epoch 175/200\n",
            "80/80 [==============================] - 1s 10ms/step - loss: 1.7361e-05\n",
            "Epoch 176/200\n",
            "80/80 [==============================] - 1s 10ms/step - loss: 1.8004e-05\n",
            "Epoch 177/200\n",
            "80/80 [==============================] - 1s 10ms/step - loss: 1.8554e-05\n",
            "Epoch 178/200\n",
            "80/80 [==============================] - 1s 10ms/step - loss: 1.7461e-05\n",
            "Epoch 179/200\n",
            "80/80 [==============================] - 1s 10ms/step - loss: 1.7185e-05\n",
            "Epoch 180/200\n",
            "80/80 [==============================] - 1s 10ms/step - loss: 1.7703e-05\n",
            "Epoch 181/200\n",
            "80/80 [==============================] - 1s 10ms/step - loss: 1.7114e-05\n",
            "Epoch 182/200\n",
            "80/80 [==============================] - 1s 10ms/step - loss: 1.7190e-05\n",
            "Epoch 183/200\n",
            "80/80 [==============================] - 1s 10ms/step - loss: 1.6249e-05\n",
            "Epoch 184/200\n",
            "80/80 [==============================] - 1s 10ms/step - loss: 1.7563e-05\n",
            "Epoch 185/200\n",
            "80/80 [==============================] - 1s 10ms/step - loss: 1.7606e-05\n",
            "Epoch 186/200\n",
            "80/80 [==============================] - 1s 10ms/step - loss: 1.6193e-05\n",
            "Epoch 187/200\n",
            "80/80 [==============================] - 1s 10ms/step - loss: 1.7470e-05\n",
            "Epoch 188/200\n",
            "80/80 [==============================] - 1s 10ms/step - loss: 1.8089e-05\n",
            "Epoch 189/200\n",
            "80/80 [==============================] - 1s 10ms/step - loss: 1.6923e-05\n",
            "Epoch 190/200\n",
            "80/80 [==============================] - 1s 10ms/step - loss: 1.7786e-05\n",
            "Epoch 191/200\n",
            "80/80 [==============================] - 1s 10ms/step - loss: 2.0034e-05\n",
            "Epoch 192/200\n",
            "80/80 [==============================] - 1s 10ms/step - loss: 1.6785e-05\n",
            "Epoch 193/200\n",
            "80/80 [==============================] - 1s 10ms/step - loss: 1.7692e-05\n",
            "Epoch 194/200\n",
            "80/80 [==============================] - 1s 10ms/step - loss: 1.7049e-05\n",
            "Epoch 195/200\n",
            "80/80 [==============================] - 1s 10ms/step - loss: 1.7200e-05\n",
            "Epoch 196/200\n",
            "80/80 [==============================] - 1s 10ms/step - loss: 1.6471e-05\n",
            "Epoch 197/200\n",
            "80/80 [==============================] - 1s 10ms/step - loss: 1.6081e-05\n",
            "Epoch 198/200\n",
            "80/80 [==============================] - 1s 10ms/step - loss: 1.7581e-05\n",
            "Epoch 199/200\n",
            "80/80 [==============================] - 1s 14ms/step - loss: 1.7261e-05\n",
            "Epoch 200/200\n",
            "80/80 [==============================] - 1s 16ms/step - loss: 1.7794e-05\n"
          ]
        },
        {
          "output_type": "execute_result",
          "data": {
            "text/plain": [
              "<keras.callbacks.History at 0x7f8534000090>"
            ]
          },
          "metadata": {},
          "execution_count": 47
        }
      ]
    },
    {
      "cell_type": "code",
      "source": [
        "import tensorflow as tf"
      ],
      "metadata": {
        "id": "G3cIvC7HF-Gq"
      },
      "execution_count": null,
      "outputs": []
    },
    {
      "cell_type": "code",
      "source": [
        "### Lets Do the prediction and check performance metrics\n",
        "train_predict=model.predict(X_train)\n",
        "test_predict=model.predict(X_test)"
      ],
      "metadata": {
        "colab": {
          "base_uri": "https://localhost:8080/"
        },
        "id": "Gg23uzwFGBqS",
        "outputId": "6f305df0-ff79-430e-ceb6-6bdb02b84866"
      },
      "execution_count": null,
      "outputs": [
        {
          "output_type": "stream",
          "name": "stdout",
          "text": [
            "594/594 [==============================] - 2s 3ms/step\n",
            "6/6 [==============================] - 0s 4ms/step\n"
          ]
        }
      ]
    },
    {
      "cell_type": "code",
      "source": [
        "##Transformback to original form\n",
        "train_predict=scaler.inverse_transform(train_predict)\n",
        "test_predict=scaler.inverse_transform(test_predict)"
      ],
      "metadata": {
        "id": "VYRKENxGGFzz"
      },
      "execution_count": null,
      "outputs": []
    },
    {
      "cell_type": "code",
      "source": [
        "y_train=scaler.inverse_transform([y_train])\n",
        "ytest=scaler.inverse_transform([ytest])"
      ],
      "metadata": {
        "id": "L7lfoHRmimtM"
      },
      "execution_count": null,
      "outputs": []
    },
    {
      "cell_type": "code",
      "source": [
        "### Calculate RMSE performance metrics\n",
        "import math\n",
        "from sklearn.metrics import mean_squared_error\n",
        "math.sqrt(mean_squared_error(y_train[0],train_predict[:,0]))"
      ],
      "metadata": {
        "colab": {
          "base_uri": "https://localhost:8080/"
        },
        "id": "EPBdblWdGH2p",
        "outputId": "010b86ef-89fe-4bb8-9ea9-64e783eb0017"
      },
      "execution_count": null,
      "outputs": [
        {
          "output_type": "execute_result",
          "data": {
            "text/plain": [
              "3.0761603302747154"
            ]
          },
          "metadata": {},
          "execution_count": 52
        }
      ]
    },
    {
      "cell_type": "code",
      "source": [
        "### Test Data RMSE\n",
        "math.sqrt(mean_squared_error(ytest[0],test_predict[:,0]))"
      ],
      "metadata": {
        "colab": {
          "base_uri": "https://localhost:8080/"
        },
        "id": "qRDE5r18GLFS",
        "outputId": "d5b92a44-55b1-42e0-8c15-ed2dcbe0ccb5"
      },
      "execution_count": null,
      "outputs": [
        {
          "output_type": "execute_result",
          "data": {
            "text/plain": [
              "1.1003229099132268"
            ]
          },
          "metadata": {},
          "execution_count": 53
        }
      ]
    },
    {
      "cell_type": "code",
      "source": [
        "### Plotting \n",
        "# shift train predictions for plotting\n",
        "look_back=10\n",
        "trainPredictPlot = numpy.empty_like(df1)\n",
        "trainPredictPlot[:, :] = np.nan\n",
        "trainPredictPlot[look_back:len(train_predict)+look_back, :] = train_predict\n",
        "# shift test predictions for plotting\n",
        "testPredictPlot = numpy.empty_like(df1)\n",
        "testPredictPlot[:, :] = numpy.nan\n",
        "testPredictPlot[len(train_predict)+(look_back*2)+1:len(df1)-1, :] = test_predict\n",
        "# plot baseline and predictions\n",
        "plt.plot(scaler.inverse_transform(df1))\n",
        "plt.plot(trainPredictPlot)\n",
        "plt.plot(testPredictPlot)\n",
        "plt.show()"
      ],
      "metadata": {
        "colab": {
          "base_uri": "https://localhost:8080/",
          "height": 265
        },
        "id": "gXfSv_15GMav",
        "outputId": "74b2e271-aa96-4d7d-9410-f394e1a5c260"
      },
      "execution_count": null,
      "outputs": [
        {
          "output_type": "display_data",
          "data": {
            "text/plain": [
              "<Figure size 432x288 with 1 Axes>"
            ],
            "image/png": "[encoded data removed]"
          },
          "metadata": {
            "needs_background": "light"
          }
        }
      ]
    },
    {
      "cell_type": "code",
      "source": [
        "len(test_data)"
      ],
      "metadata": {
        "colab": {
          "base_uri": "https://localhost:8080/"
        },
        "id": "tSHos-4WGQ9e",
        "outputId": "3d08d300-d4ac-4572-9f39-062f3f772a1e"
      },
      "execution_count": null,
      "outputs": [
        {
          "output_type": "execute_result",
          "data": {
            "text/plain": [
              "192"
            ]
          },
          "metadata": {},
          "execution_count": 55
        }
      ]
    },
    {
      "cell_type": "code",
      "source": [
        "x_input=test_data[182:].reshape(1,-1)\n",
        "x_input.shape"
      ],
      "metadata": {
        "colab": {
          "base_uri": "https://localhost:8080/"
        },
        "id": "d30TDF0OGTgs",
        "outputId": "efa2e3c1-fa86-43e7-c021-cd92173e232c"
      },
      "execution_count": null,
      "outputs": [
        {
          "output_type": "execute_result",
          "data": {
            "text/plain": [
              "(1, 10)"
            ]
          },
          "metadata": {},
          "execution_count": 56
        }
      ]
    },
    {
      "cell_type": "code",
      "source": [
        "temp_input=list(x_input)\n",
        "temp_input=temp_input[0].tolist()"
      ],
      "metadata": {
        "id": "zsEYTyx9Gr1o"
      },
      "execution_count": null,
      "outputs": []
    },
    {
      "cell_type": "code",
      "source": [
        "# demonstrate prediction for next 10 days\n",
        "from numpy import array\n",
        "\n",
        "lst_output=[]\n",
        "n_steps=10\n",
        "i=0\n",
        "while(i<64):\n",
        "    \n",
        "    if(len(temp_input)>10):\n",
        "        #print(temp_input)\n",
        "        x_input=np.array(temp_input[1:])\n",
        "        print(\"{} day input {}\".format(i,x_input))\n",
        "        x_input=x_input.reshape(1,-1)\n",
        "        x_input = x_input.reshape((1, n_steps, 1))\n",
        "        #print(x_input)\n",
        "        yhat = model.predict(x_input, verbose=0)\n",
        "        print(\"{} day output {}\".format(i,yhat))\n",
        "        temp_input.extend(yhat[0].tolist())\n",
        "        temp_input=temp_input[1:]\n",
        "        #print(temp_input)\n",
        "        lst_output.extend(yhat.tolist())\n",
        "        i=i+1\n",
        "    else:\n",
        "        x_input = x_input.reshape((1, n_steps,1))\n",
        "        yhat = model.predict(x_input, verbose=0)\n",
        "        print(yhat[0])\n",
        "        temp_input.extend(yhat[0].tolist())\n",
        "        print(len(temp_input))\n",
        "        lst_output.extend(yhat.tolist())\n",
        "        i=i+1\n",
        "    \n",
        "\n",
        "print(lst_output)"
      ],
      "metadata": {
        "colab": {
          "base_uri": "https://localhost:8080/"
        },
        "id": "HEx2XcEEGxwu",
        "outputId": "db2ab273-0a1c-45b6-d8a5-8c292c95ecc2"
      },
      "execution_count": null,
      "outputs": [
        {
          "output_type": "stream",
          "name": "stdout",
          "text": [
            "[0.46594408]\n",
            "11\n",
            "1 day input [0.47600231 0.47607207 0.47640853 0.47676551 0.47681065 0.47617465\n",
            " 0.47460312 0.47209605 0.46895298 0.46594408]\n",
            "1 day output [[0.46337157]]\n",
            "2 day input [0.47607207 0.47640853 0.47676551 0.47681065 0.47617465 0.47460312\n",
            " 0.47209605 0.46895298 0.46594408 0.46337157]\n",
            "2 day output [[0.46163693]]\n",
            "3 day input [0.47640853 0.47676551 0.47681065 0.47617465 0.47460312 0.47209605\n",
            " 0.46895298 0.46594408 0.46337157 0.46163693]\n",
            "3 day output [[0.4608349]]\n",
            "4 day input [0.47676551 0.47681065 0.47617465 0.47460312 0.47209605 0.46895298\n",
            " 0.46594408 0.46337157 0.46163693 0.46083489]\n",
            "4 day output [[0.46094462]]\n",
            "5 day input [0.47681065 0.47617465 0.47460312 0.47209605 0.46895298 0.46594408\n",
            " 0.46337157 0.46163693 0.46083489 0.46094462]\n",
            "5 day output [[0.461856]]\n",
            "6 day input [0.47617465 0.47460312 0.47209605 0.46895298 0.46594408 0.46337157\n",
            " 0.46163693 0.46083489 0.46094462 0.46185601]\n",
            "6 day output [[0.4634218]]\n",
            "7 day input [0.47460312 0.47209605 0.46895298 0.46594408 0.46337157 0.46163693\n",
            " 0.46083489 0.46094462 0.46185601 0.46342179]\n",
            "7 day output [[0.46549287]]\n",
            "8 day input [0.47209605 0.46895298 0.46594408 0.46337157 0.46163693 0.46083489\n",
            " 0.46094462 0.46185601 0.46342179 0.46549287]\n",
            "8 day output [[0.467932]]\n",
            "9 day input [0.46895298 0.46594408 0.46337157 0.46163693 0.46083489 0.46094462\n",
            " 0.46185601 0.46342179 0.46549287 0.46793199]\n",
            "9 day output [[0.47061363]]\n",
            "10 day input [0.46594408 0.46337157 0.46163693 0.46083489 0.46094462 0.46185601\n",
            " 0.46342179 0.46549287 0.46793199 0.47061363]\n",
            "10 day output [[0.4734222]]\n",
            "11 day input [0.46337157 0.46163693 0.46083489 0.46094462 0.46185601 0.46342179\n",
            " 0.46549287 0.46793199 0.47061363 0.4734222 ]\n",
            "11 day output [[0.47624764]]\n",
            "12 day input [0.46163693 0.46083489 0.46094462 0.46185601 0.46342179 0.46549287\n",
            " 0.46793199 0.47061363 0.4734222  0.47624764]\n",
            "12 day output [[0.4789865]]\n",
            "13 day input [0.46083489 0.46094462 0.46185601 0.46342179 0.46549287 0.46793199\n",
            " 0.47061363 0.4734222  0.47624764 0.4789865 ]\n",
            "13 day output [[0.48154393]]\n",
            "14 day input [0.46094462 0.46185601 0.46342179 0.46549287 0.46793199 0.47061363\n",
            " 0.4734222  0.47624764 0.4789865  0.48154393]\n",
            "14 day output [[0.4838379]]\n",
            "15 day input [0.46185601 0.46342179 0.46549287 0.46793199 0.47061363 0.4734222\n",
            " 0.47624764 0.4789865  0.48154393 0.4838379 ]\n",
            "15 day output [[0.48580304]]\n",
            "16 day input [0.46342179 0.46549287 0.46793199 0.47061363 0.4734222  0.47624764\n",
            " 0.4789865  0.48154393 0.4838379  0.48580304]\n",
            "16 day output [[0.48739296]]\n",
            "17 day input [0.46549287 0.46793199 0.47061363 0.4734222  0.47624764 0.4789865\n",
            " 0.48154393 0.4838379  0.48580304 0.48739296]\n",
            "17 day output [[0.4885814]]\n",
            "18 day input [0.46793199 0.47061363 0.4734222  0.47624764 0.4789865  0.48154393\n",
            " 0.4838379  0.48580304 0.48739296 0.48858139]\n",
            "18 day output [[0.48936158]]\n",
            "19 day input [0.47061363 0.4734222  0.47624764 0.4789865  0.48154393 0.4838379\n",
            " 0.48580304 0.48739296 0.48858139 0.48936158]\n",
            "19 day output [[0.48974422]]\n",
            "20 day input [0.4734222  0.47624764 0.4789865  0.48154393 0.4838379  0.48580304\n",
            " 0.48739296 0.48858139 0.48936158 0.48974422]\n",
            "20 day output [[0.4897555]]\n",
            "21 day input [0.47624764 0.4789865  0.48154393 0.4838379  0.48580304 0.48739296\n",
            " 0.48858139 0.48936158 0.48974422 0.48975551]\n",
            "21 day output [[0.4894341]]\n",
            "22 day input [0.4789865  0.48154393 0.4838379  0.48580304 0.48739296 0.48858139\n",
            " 0.48936158 0.48974422 0.48975551 0.48943409]\n",
            "22 day output [[0.48882857]]\n",
            "23 day input [0.48154393 0.4838379  0.48580304 0.48739296 0.48858139 0.48936158\n",
            " 0.48974422 0.48975551 0.48943409 0.48882857]\n",
            "23 day output [[0.4879941]]\n",
            "24 day input [0.4838379  0.48580304 0.48739296 0.48858139 0.48936158 0.48974422\n",
            " 0.48975551 0.48943409 0.48882857 0.4879941 ]\n",
            "24 day output [[0.4869901]]\n",
            "25 day input [0.48580304 0.48739296 0.48858139 0.48936158 0.48974422 0.48975551\n",
            " 0.48943409 0.48882857 0.4879941  0.48699009]\n",
            "25 day output [[0.48587695]]\n",
            "26 day input [0.48739296 0.48858139 0.48936158 0.48974422 0.48975551 0.48943409\n",
            " 0.48882857 0.4879941  0.48699009 0.48587695]\n",
            "26 day output [[0.48471364]]\n",
            "27 day input [0.48858139 0.48936158 0.48974422 0.48975551 0.48943409 0.48882857\n",
            " 0.4879941  0.48699009 0.48587695 0.48471364]\n",
            "27 day output [[0.48355544]]\n",
            "28 day input [0.48936158 0.48974422 0.48975551 0.48943409 0.48882857 0.4879941\n",
            " 0.48699009 0.48587695 0.48471364 0.48355544]\n",
            "28 day output [[0.48245138]]\n",
            "29 day input [0.48974422 0.48975551 0.48943409 0.48882857 0.4879941  0.48699009\n",
            " 0.48587695 0.48471364 0.48355544 0.48245138]\n",
            "29 day output [[0.48144323]]\n",
            "30 day input [0.48975551 0.48943409 0.48882857 0.4879941  0.48699009 0.48587695\n",
            " 0.48471364 0.48355544 0.48245138 0.48144323]\n",
            "30 day output [[0.48056418]]\n",
            "31 day input [0.48943409 0.48882857 0.4879941  0.48699009 0.48587695 0.48471364\n",
            " 0.48355544 0.48245138 0.48144323 0.48056418]\n",
            "31 day output [[0.47983828]]\n",
            "32 day input [0.48882857 0.4879941  0.48699009 0.48587695 0.48471364 0.48355544\n",
            " 0.48245138 0.48144323 0.48056418 0.47983828]\n",
            "32 day output [[0.47928047]]\n",
            "33 day input [0.4879941  0.48699009 0.48587695 0.48471364 0.48355544 0.48245138\n",
            " 0.48144323 0.48056418 0.47983828 0.47928047]\n",
            "33 day output [[0.47889674]]\n",
            "34 day input [0.48699009 0.48587695 0.48471364 0.48355544 0.48245138 0.48144323\n",
            " 0.48056418 0.47983828 0.47928047 0.47889674]\n",
            "34 day output [[0.478685]]\n",
            "35 day input [0.48587695 0.48471364 0.48355544 0.48245138 0.48144323 0.48056418\n",
            " 0.47983828 0.47928047 0.47889674 0.47868499]\n",
            "35 day output [[0.47863606]]\n",
            "36 day input [0.48471364 0.48355544 0.48245138 0.48144323 0.48056418 0.47983828\n",
            " 0.47928047 0.47889674 0.47868499 0.47863606]\n",
            "36 day output [[0.4787347]]\n",
            "37 day input [0.48355544 0.48245138 0.48144323 0.48056418 0.47983828 0.47928047\n",
            " 0.47889674 0.47868499 0.47863606 0.4787347 ]\n",
            "37 day output [[0.4789611]]\n",
            "38 day input [0.48245138 0.48144323 0.48056418 0.47983828 0.47928047 0.47889674\n",
            " 0.47868499 0.47863606 0.4787347  0.47896111]\n",
            "38 day output [[0.47929224]]\n",
            "39 day input [0.48144323 0.48056418 0.47983828 0.47928047 0.47889674 0.47868499\n",
            " 0.47863606 0.4787347  0.47896111 0.47929224]\n",
            "39 day output [[0.47970298]]\n",
            "40 day input [0.48056418 0.47983828 0.47928047 0.47889674 0.47868499 0.47863606\n",
            " 0.4787347  0.47896111 0.47929224 0.47970298]\n",
            "40 day output [[0.48016763]]\n",
            "41 day input [0.47983828 0.47928047 0.47889674 0.47868499 0.47863606 0.4787347\n",
            " 0.47896111 0.47929224 0.47970298 0.48016763]\n",
            "41 day output [[0.48066095]]\n",
            "42 day input [0.47928047 0.47889674 0.47868499 0.47863606 0.4787347  0.47896111\n",
            " 0.47929224 0.47970298 0.48016763 0.48066095]\n",
            "42 day output [[0.48115924]]\n",
            "43 day input [0.47889674 0.47868499 0.47863606 0.4787347  0.47896111 0.47929224\n",
            " 0.47970298 0.48016763 0.48066095 0.48115924]\n",
            "43 day output [[0.48164108]]\n",
            "44 day input [0.47868499 0.47863606 0.4787347  0.47896111 0.47929224 0.47970298\n",
            " 0.48016763 0.48066095 0.48115924 0.48164108]\n",
            "44 day output [[0.48208797]]\n",
            "45 day input [0.47863606 0.4787347  0.47896111 0.47929224 0.47970298 0.48016763\n",
            " 0.48066095 0.48115924 0.48164108 0.48208797]\n",
            "45 day output [[0.48248497]]\n",
            "46 day input [0.4787347  0.47896111 0.47929224 0.47970298 0.48016763 0.48066095\n",
            " 0.48115924 0.48164108 0.48208797 0.48248497]\n",
            "46 day output [[0.4828205]]\n",
            "47 day input [0.47896111 0.47929224 0.47970298 0.48016763 0.48066095 0.48115924\n",
            " 0.48164108 0.48208797 0.48248497 0.48282051]\n",
            "47 day output [[0.48308697]]\n",
            "48 day input [0.47929224 0.47970298 0.48016763 0.48066095 0.48115924 0.48164108\n",
            " 0.48208797 0.48248497 0.48282051 0.48308697]\n",
            "48 day output [[0.48328042]]\n",
            "49 day input [0.47970298 0.48016763 0.48066095 0.48115924 0.48164108 0.48208797\n",
            " 0.48248497 0.48282051 0.48308697 0.48328042]\n",
            "49 day output [[0.4834004]]\n",
            "50 day input [0.48016763 0.48066095 0.48115924 0.48164108 0.48208797 0.48248497\n",
            " 0.48282051 0.48308697 0.48328042 0.4834004 ]\n",
            "50 day output [[0.4834495]]\n",
            "51 day input [0.48066095 0.48115924 0.48164108 0.48208797 0.48248497 0.48282051\n",
            " 0.48308697 0.48328042 0.4834004  0.48344949]\n",
            "51 day output [[0.48343313]]\n",
            "52 day input [0.48115924 0.48164108 0.48208797 0.48248497 0.48282051 0.48308697\n",
            " 0.48328042 0.4834004  0.48344949 0.48343313]\n",
            "52 day output [[0.48335886]]\n",
            "53 day input [0.48164108 0.48208797 0.48248497 0.48282051 0.48308697 0.48328042\n",
            " 0.4834004  0.48344949 0.48343313 0.48335886]\n",
            "53 day output [[0.48323593]]\n",
            "54 day input [0.48208797 0.48248497 0.48282051 0.48308697 0.48328042 0.4834004\n",
            " 0.48344949 0.48343313 0.48335886 0.48323593]\n",
            "54 day output [[0.48307452]]\n",
            "55 day input [0.48248497 0.48282051 0.48308697 0.48328042 0.4834004  0.48344949\n",
            " 0.48343313 0.48335886 0.48323593 0.48307452]\n",
            "55 day output [[0.4828855]]\n",
            "56 day input [0.48282051 0.48308697 0.48328042 0.4834004  0.48344949 0.48343313\n",
            " 0.48335886 0.48323593 0.48307452 0.48288551]\n",
            "56 day output [[0.48267967]]\n",
            "57 day input [0.48308697 0.48328042 0.4834004  0.48344949 0.48343313 0.48335886\n",
            " 0.48323593 0.48307452 0.48288551 0.48267967]\n",
            "57 day output [[0.48246753]]\n",
            "58 day input [0.48328042 0.4834004  0.48344949 0.48343313 0.48335886 0.48323593\n",
            " 0.48307452 0.48288551 0.48267967 0.48246753]\n",
            "58 day output [[0.4822588]]\n",
            "59 day input [0.4834004  0.48344949 0.48343313 0.48335886 0.48323593 0.48307452\n",
            " 0.48288551 0.48267967 0.48246753 0.4822588 ]\n",
            "59 day output [[0.48206192]]\n",
            "60 day input [0.48344949 0.48343313 0.48335886 0.48323593 0.48307452 0.48288551\n",
            " 0.48267967 0.48246753 0.4822588  0.48206192]\n",
            "60 day output [[0.48188412]]\n",
            "61 day input [0.48343313 0.48335886 0.48323593 0.48307452 0.48288551 0.48267967\n",
            " 0.48246753 0.4822588  0.48206192 0.48188412]\n",
            "61 day output [[0.48173094]]\n",
            "62 day input [0.48335886 0.48323593 0.48307452 0.48288551 0.48267967 0.48246753\n",
            " 0.4822588  0.48206192 0.48188412 0.48173094]\n",
            "62 day output [[0.48160625]]\n",
            "63 day input [0.48323593 0.48307452 0.48288551 0.48267967 0.48246753 0.4822588\n",
            " 0.48206192 0.48188412 0.48173094 0.48160625]\n",
            "63 day output [[0.48151228]]\n",
            "[[0.4659440815448761], [0.4633715748786926], [0.4616369307041168], [0.46083489060401917], [0.46094462275505066], [0.46185600757598877], [0.4634217917919159], [0.4654928743839264], [0.46793198585510254], [0.47061362862586975], [0.47342219948768616], [0.476247638463974], [0.4789865016937256], [0.4815439283847809], [0.48383790254592896], [0.4858030378818512], [0.48739296197891235], [0.4885813891887665], [0.48936158418655396], [0.4897442162036896], [0.4897555112838745], [0.4894340932369232], [0.48882856965065], [0.48799410462379456], [0.4869900941848755], [0.4858769476413727], [0.4847136437892914], [0.4835554361343384], [0.4824513792991638], [0.48144322633743286], [0.4805641770362854], [0.4798382818698883], [0.4792804718017578], [0.47889673709869385], [0.4786849915981293], [0.4786360561847687], [0.47873470187187195], [0.47896111011505127], [0.47929224371910095], [0.47970297932624817], [0.4801676273345947], [0.48066094517707825], [0.4811592400074005], [0.48164108395576477], [0.48208796977996826], [0.48248496651649475], [0.4828205108642578], [0.4830869734287262], [0.4832804203033447], [0.4834004044532776], [0.4834494888782501], [0.4834331274032593], [0.48335886001586914], [0.4832359254360199], [0.48307451605796814], [0.4828855097293854], [0.48267966508865356], [0.48246753215789795], [0.48225879669189453], [0.4820619225502014], [0.4818841218948364], [0.48173093795776367], [0.48160624504089355], [0.48151227831840515]]\n"
          ]
        }
      ]
    },
    {
      "cell_type": "code",
      "source": [
        "day_new=np.arange(1,11)\n",
        "day_pred=np.arange(11,75)"
      ],
      "metadata": {
        "id": "1duQp-inG1EP"
      },
      "execution_count": null,
      "outputs": []
    },
    {
      "cell_type": "code",
      "source": [
        "import matplotlib.pyplot as plt\n",
        "len(df1)"
      ],
      "metadata": {
        "colab": {
          "base_uri": "https://localhost:8080/"
        },
        "id": "5_RoAXmrG96N",
        "outputId": "c9c0ce8d-28b3-4bd0-ec36-96f796ce5cbb"
      },
      "execution_count": null,
      "outputs": [
        {
          "output_type": "execute_result",
          "data": {
            "text/plain": [
              "19200"
            ]
          },
          "metadata": {},
          "execution_count": 63
        }
      ]
    },
    {
      "cell_type": "code",
      "source": [
        "plt.plot(day_new,scaler.inverse_transform(df1[19190:]))\n",
        "plt.plot(day_pred,scaler.inverse_transform(lst_output))"
      ],
      "metadata": {
        "colab": {
          "base_uri": "https://localhost:8080/",
          "height": 282
        },
        "id": "jZhioifQHAHl",
        "outputId": "b38c7f04-2dbd-4e16-ed83-f611207ddea2"
      },
      "execution_count": null,
      "outputs": [
        {
          "output_type": "execute_result",
          "data": {
            "text/plain": [
              "[<matplotlib.lines.Line2D at 0x7f8533876390>]"
            ]
          },
          "metadata": {},
          "execution_count": 64
        },
        {
          "output_type": "display_data",
          "data": {
            "text/plain": [
              "<Figure size 432x288 with 1 Axes>"
            ],
            "image/png": "[encoded data removed]"
          },
          "metadata": {
            "needs_background": "light"
          }
        }
      ]
    },
    {
      "cell_type": "code",
      "source": [
        "df_test = pd.read_csv('test_1.csv')"
      ],
      "metadata": {
        "id": "sGOtIvkR0YUi"
      },
      "execution_count": null,
      "outputs": []
    },
    {
      "cell_type": "code",
      "source": [
        "df_other = pd.read_csv('test_2.csv')"
      ],
      "metadata": {
        "id": "yi9GkkXA0a6k"
      },
      "execution_count": null,
      "outputs": []
    },
    {
      "cell_type": "code",
      "source": [
        "plt.plot(day_new,scaler.inverse_transform(df1[19190:]))\n",
        "plt.plot(day_pred,scaler.inverse_transform(lst_output))\n",
        "plt.plot(day_pred,df_test['ppg'])\n",
        "plt.plot(day_pred,df_other['ppg'])"
      ],
      "metadata": {
        "colab": {
          "base_uri": "https://localhost:8080/",
          "height": 282
        },
        "id": "uXP7d-CGd5LK",
        "outputId": "90eb609e-bd6d-47ea-b415-1164a9d38e0f"
      },
      "execution_count": null,
      "outputs": [
        {
          "output_type": "execute_result",
          "data": {
            "text/plain": [
              "[<matplotlib.lines.Line2D at 0x7f852f668110>]"
            ]
          },
          "metadata": {},
          "execution_count": 70
        },
        {
          "output_type": "display_data",
          "data": {
            "text/plain": [
              "<Figure size 432x288 with 1 Axes>"
            ],
            "image/png": "[encoded data removed]"
          },
          "metadata": {
            "needs_background": "light"
          }
        }
      ]
    },
    {
      "cell_type": "code",
      "source": [
        "df3=df1.tolist()\n",
        "df3.extend(lst_output)\n",
        "plt.plot(df3[19000:])"
      ],
      "metadata": {
        "colab": {
          "base_uri": "https://localhost:8080/",
          "height": 282
        },
        "id": "MBOloBmsHEWk",
        "outputId": "ec53fb7a-dcf7-4ba5-b2f5-f3e47662521e"
      },
      "execution_count": null,
      "outputs": [
        {
          "output_type": "execute_result",
          "data": {
            "text/plain": [
              "[<matplotlib.lines.Line2D at 0x7f852fafc4d0>]"
            ]
          },
          "metadata": {},
          "execution_count": 67
        },
        {
          "output_type": "display_data",
          "data": {
            "text/plain": [
              "<Figure size 432x288 with 1 Axes>"
            ],
            "image/png": "[encoded data removed]"
          },
          "metadata": {
            "needs_background": "light"
          }
        }
      ]
    },
    {
      "cell_type": "code",
      "source": [
        "df3=scaler.inverse_transform(df3).tolist()\n",
        "plt.plot(df3)"
      ],
      "metadata": {
        "colab": {
          "base_uri": "https://localhost:8080/",
          "height": 282
        },
        "id": "9LK8E_uUHViG",
        "outputId": "70348dad-6904-4c0a-ed0b-ded8e94198df"
      },
      "execution_count": null,
      "outputs": [
        {
          "output_type": "execute_result",
          "data": {
            "text/plain": [
              "[<matplotlib.lines.Line2D at 0x7f85322be050>]"
            ]
          },
          "metadata": {},
          "execution_count": 68
        },
        {
          "output_type": "display_data",
          "data": {
            "text/plain": [
              "<Figure size 432x288 with 1 Axes>"
            ],
            "image/png": "[encoded data removed]"
          },
          "metadata": {
            "needs_background": "light"
          }
        }
      ]
    },
    {
      "cell_type": "code",
      "source": [
        "plt.plot(df3[17000:])"
      ],
      "metadata": {
        "id": "_nwL7F4pHcrV",
        "colab": {
          "base_uri": "https://localhost:8080/",
          "height": 282
        },
        "outputId": "4cd5b041-d1a8-43f1-e893-7b4967500811"
      },
      "execution_count": null,
      "outputs": [
        {
          "output_type": "execute_result",
          "data": {
            "text/plain": [
              "[<matplotlib.lines.Line2D at 0x7f852f62ee50>]"
            ]
          },
          "metadata": {},
          "execution_count": 71
        },
        {
          "output_type": "display_data",
          "data": {
            "text/plain": [
              "<Figure size 432x288 with 1 Axes>"
            ],
            "image/png": "[encoded data removed]"
          },
          "metadata": {
            "needs_background": "light"
          }
        }
      ]
    },
    {
      "cell_type": "code",
      "source": [],
      "metadata": {
        "id": "-lpblO3o0wrX"
      },
      "execution_count": null,
      "outputs": []
    }
  ]
}